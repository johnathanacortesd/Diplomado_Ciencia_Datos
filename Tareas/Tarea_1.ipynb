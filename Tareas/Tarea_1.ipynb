{
  "nbformat": 4,
  "nbformat_minor": 0,
  "metadata": {
    "colab": {
      "provenance": []
    },
    "kernelspec": {
      "name": "python3",
      "display_name": "Python 3"
    },
    "language_info": {
      "name": "python"
    }
  },
  "cells": [
    {
      "cell_type": "markdown",
      "source": [
        "El promedio matemático es una medida de la tendencia central de un conjunto de datos.\n",
        "Se calcula sumando todos los valores en un conjunto de datos y luego dividiendo la suma por el número de valores en el conjunto de datos.\n",
        "\n",
        "La fórmula para el promedio matemático es:\n",
        "\n",
        "Promedio = (valor 1 + valor 2 + ... + valor n) / n\n",
        "\n",
        "Por ejemplo, si tenemos los siguientes datos:\n",
        "\n",
        "1, 2, 3, 4, 5\n",
        "\n",
        "El promedio matemático es:\n",
        "\n",
        "(1 + 2 + 3 + 4 + 5) / 5 = 3\n",
        "\n",
        "\n",
        "Ejemplo:\n",
        "\n",
        "Un maestro quiere saber el promedio de calificaciones de su clase. El maestro tiene las siguientes calificaciones:\n",
        "\n",
        "90, 85, 80, 75, 70\n",
        "\n",
        "El promedio de calificaciones es:\n",
        "(90 + 85 + 80 + 75 + 70) / 5 = 80\n",
        "\n",
        "Referencias:\n",
        "\n",
        "Promedio matemático: https://en.wikipedia.org/wiki/Arithmetic_mean\n"
      ],
      "metadata": {
        "id": "_ypqrjwY_5sy"
      }
    },
    {
      "cell_type": "code",
      "source": [
        "# Datos de calificaciones\n",
        "calificaciones = [90, 85, 80, 75, 70]\n",
        "\n",
        "# Calcular el promedio\n",
        "promedio = sum(calificaciones) / len(calificaciones)\n",
        "print(\"El promedio de calificaciones es:\", promedio)"
      ],
      "metadata": {
        "colab": {
          "base_uri": "https://localhost:8080/"
        },
        "id": "SDmCc7w4_3uv",
        "outputId": "d6733911-4083-435b-ee11-e23aafcac402"
      },
      "execution_count": 2,
      "outputs": [
        {
          "output_type": "stream",
          "name": "stdout",
          "text": [
            "El promedio de calificaciones es: 80.0\n"
          ]
        }
      ]
    }
  ]
}